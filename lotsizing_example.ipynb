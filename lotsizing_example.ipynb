{
  "cells": [
    {
      "cell_type": "markdown",
      "id": "a461c72d",
      "metadata": {
        "id": "a461c72d"
      },
      "source": [
        "# OptiGuide Example\n",
        "\n",
        "\n"
      ]
    },
    {
      "cell_type": "code",
      "execution_count": 1,
      "id": "ReAgLnDma3oI",
      "metadata": {
        "colab": {
          "base_uri": "https://localhost:8080/"
        },
        "id": "ReAgLnDma3oI",
        "outputId": "c95a23e8-ddb9-4fd2-f218-c40a51cbcbb0"
      },
      "outputs": [
        {
          "name": "stdout",
          "output_type": "stream",
          "text": [
            "Requirement already satisfied: optiguide in c:\\users\\linda\\appdata\\local\\programs\\python\\python311\\lib\\site-packages (0.0.1)\n",
            "Requirement already satisfied: openai in c:\\users\\linda\\appdata\\local\\programs\\python\\python311\\lib\\site-packages (from optiguide) (0.28.1)\n",
            "Requirement already satisfied: diskcache in c:\\users\\linda\\appdata\\local\\programs\\python\\python311\\lib\\site-packages (from optiguide) (5.6.3)\n",
            "Requirement already satisfied: termcolor in c:\\users\\linda\\appdata\\local\\programs\\python\\python311\\lib\\site-packages (from optiguide) (2.3.0)\n",
            "Requirement already satisfied: flaml in c:\\users\\linda\\appdata\\local\\programs\\python\\python311\\lib\\site-packages (from optiguide) (2.1.1)\n",
            "Requirement already satisfied: autogen in c:\\users\\linda\\appdata\\local\\programs\\python\\python311\\lib\\site-packages (from optiguide) (1.0.16)\n",
            "Requirement already satisfied: eventlet in c:\\users\\linda\\appdata\\local\\programs\\python\\python311\\lib\\site-packages (from optiguide) (0.33.3)\n",
            "Requirement already satisfied: gurobipy in c:\\users\\linda\\appdata\\local\\programs\\python\\python311\\lib\\site-packages (from optiguide) (11.0.0)\n",
            "Requirement already satisfied: PyYAML in c:\\users\\linda\\appdata\\local\\programs\\python\\python311\\lib\\site-packages (from autogen->optiguide) (6.0.1)\n",
            "Requirement already satisfied: autopep8 in c:\\users\\linda\\appdata\\local\\programs\\python\\python311\\lib\\site-packages (from autogen->optiguide) (2.0.4)\n",
            "Requirement already satisfied: docopt in c:\\users\\linda\\appdata\\local\\programs\\python\\python311\\lib\\site-packages (from autogen->optiguide) (0.6.2)\n",
            "Requirement already satisfied: setuptools in c:\\users\\linda\\appdata\\local\\programs\\python\\python311\\lib\\site-packages (from autogen->optiguide) (65.5.0)\n",
            "Requirement already satisfied: twine in c:\\users\\linda\\appdata\\local\\programs\\python\\python311\\lib\\site-packages (from autogen->optiguide) (4.0.2)\n",
            "Requirement already satisfied: dnspython>=1.15.0 in c:\\users\\linda\\appdata\\local\\programs\\python\\python311\\lib\\site-packages (from eventlet->optiguide) (2.4.2)\n",
            "Requirement already satisfied: greenlet>=0.3 in c:\\users\\linda\\appdata\\local\\programs\\python\\python311\\lib\\site-packages (from eventlet->optiguide) (3.0.0)\n",
            "Requirement already satisfied: six>=1.10.0 in c:\\users\\linda\\appdata\\local\\programs\\python\\python311\\lib\\site-packages (from eventlet->optiguide) (1.16.0)\n",
            "Requirement already satisfied: NumPy>=1.17.0rc1 in c:\\users\\linda\\appdata\\local\\programs\\python\\python311\\lib\\site-packages (from flaml->optiguide) (1.26.1)\n",
            "Requirement already satisfied: requests>=2.20 in c:\\users\\linda\\appdata\\local\\programs\\python\\python311\\lib\\site-packages (from openai->optiguide) (2.31.0)\n",
            "Requirement already satisfied: tqdm in c:\\users\\linda\\appdata\\local\\programs\\python\\python311\\lib\\site-packages (from openai->optiguide) (4.66.1)\n",
            "Requirement already satisfied: aiohttp in c:\\users\\linda\\appdata\\local\\programs\\python\\python311\\lib\\site-packages (from openai->optiguide) (3.8.6)\n",
            "Requirement already satisfied: charset-normalizer<4,>=2 in c:\\users\\linda\\appdata\\local\\programs\\python\\python311\\lib\\site-packages (from requests>=2.20->openai->optiguide) (3.3.1)\n",
            "Requirement already satisfied: idna<4,>=2.5 in c:\\users\\linda\\appdata\\local\\programs\\python\\python311\\lib\\site-packages (from requests>=2.20->openai->optiguide) (3.4)\n",
            "Requirement already satisfied: urllib3<3,>=1.21.1 in c:\\users\\linda\\appdata\\local\\programs\\python\\python311\\lib\\site-packages (from requests>=2.20->openai->optiguide) (1.26.18)\n",
            "Requirement already satisfied: certifi>=2017.4.17 in c:\\users\\linda\\appdata\\local\\programs\\python\\python311\\lib\\site-packages (from requests>=2.20->openai->optiguide) (2023.7.22)\n",
            "Requirement already satisfied: attrs>=17.3.0 in c:\\users\\linda\\appdata\\local\\programs\\python\\python311\\lib\\site-packages (from aiohttp->openai->optiguide) (23.1.0)\n",
            "Requirement already satisfied: multidict<7.0,>=4.5 in c:\\users\\linda\\appdata\\local\\programs\\python\\python311\\lib\\site-packages (from aiohttp->openai->optiguide) (6.0.4)\n",
            "Requirement already satisfied: async-timeout<5.0,>=4.0.0a3 in c:\\users\\linda\\appdata\\local\\programs\\python\\python311\\lib\\site-packages (from aiohttp->openai->optiguide) (4.0.3)\n",
            "Requirement already satisfied: yarl<2.0,>=1.0 in c:\\users\\linda\\appdata\\local\\programs\\python\\python311\\lib\\site-packages (from aiohttp->openai->optiguide) (1.9.2)\n",
            "Requirement already satisfied: frozenlist>=1.1.1 in c:\\users\\linda\\appdata\\local\\programs\\python\\python311\\lib\\site-packages (from aiohttp->openai->optiguide) (1.4.0)\n",
            "Requirement already satisfied: aiosignal>=1.1.2 in c:\\users\\linda\\appdata\\local\\programs\\python\\python311\\lib\\site-packages (from aiohttp->openai->optiguide) (1.3.1)\n",
            "Requirement already satisfied: pycodestyle>=2.10.0 in c:\\users\\linda\\appdata\\local\\programs\\python\\python311\\lib\\site-packages (from autopep8->autogen->optiguide) (2.11.1)\n",
            "Requirement already satisfied: colorama in c:\\users\\linda\\appdata\\local\\programs\\python\\python311\\lib\\site-packages (from tqdm->openai->optiguide) (0.4.6)\n",
            "Requirement already satisfied: pkginfo>=1.8.1 in c:\\users\\linda\\appdata\\local\\programs\\python\\python311\\lib\\site-packages (from twine->autogen->optiguide) (1.9.6)\n",
            "Requirement already satisfied: readme-renderer>=35.0 in c:\\users\\linda\\appdata\\local\\programs\\python\\python311\\lib\\site-packages (from twine->autogen->optiguide) (42.0)\n",
            "Requirement already satisfied: requests-toolbelt!=0.9.0,>=0.8.0 in c:\\users\\linda\\appdata\\local\\programs\\python\\python311\\lib\\site-packages (from twine->autogen->optiguide) (1.0.0)\n",
            "Requirement already satisfied: importlib-metadata>=3.6 in c:\\users\\linda\\appdata\\local\\programs\\python\\python311\\lib\\site-packages (from twine->autogen->optiguide) (6.8.0)\n",
            "Requirement already satisfied: keyring>=15.1 in c:\\users\\linda\\appdata\\local\\programs\\python\\python311\\lib\\site-packages (from twine->autogen->optiguide) (24.3.0)\n",
            "Requirement already satisfied: rfc3986>=1.4.0 in c:\\users\\linda\\appdata\\local\\programs\\python\\python311\\lib\\site-packages (from twine->autogen->optiguide) (2.0.0)\n",
            "Requirement already satisfied: rich>=12.0.0 in c:\\users\\linda\\appdata\\local\\programs\\python\\python311\\lib\\site-packages (from twine->autogen->optiguide) (13.6.0)\n",
            "Requirement already satisfied: zipp>=0.5 in c:\\users\\linda\\appdata\\local\\programs\\python\\python311\\lib\\site-packages (from importlib-metadata>=3.6->twine->autogen->optiguide) (3.17.0)\n",
            "Requirement already satisfied: jaraco.classes in c:\\users\\linda\\appdata\\local\\programs\\python\\python311\\lib\\site-packages (from keyring>=15.1->twine->autogen->optiguide) (3.3.0)\n",
            "Requirement already satisfied: pywin32-ctypes>=0.2.0 in c:\\users\\linda\\appdata\\local\\programs\\python\\python311\\lib\\site-packages (from keyring>=15.1->twine->autogen->optiguide) (0.2.2)\n",
            "Requirement already satisfied: nh3>=0.2.14 in c:\\users\\linda\\appdata\\local\\programs\\python\\python311\\lib\\site-packages (from readme-renderer>=35.0->twine->autogen->optiguide) (0.2.14)\n",
            "Requirement already satisfied: docutils>=0.13.1 in c:\\users\\linda\\appdata\\local\\programs\\python\\python311\\lib\\site-packages (from readme-renderer>=35.0->twine->autogen->optiguide) (0.20.1)\n",
            "Requirement already satisfied: Pygments>=2.5.1 in c:\\users\\linda\\appdata\\local\\programs\\python\\python311\\lib\\site-packages (from readme-renderer>=35.0->twine->autogen->optiguide) (2.16.1)\n",
            "Requirement already satisfied: markdown-it-py>=2.2.0 in c:\\users\\linda\\appdata\\local\\programs\\python\\python311\\lib\\site-packages (from rich>=12.0.0->twine->autogen->optiguide) (3.0.0)\n",
            "Requirement already satisfied: mdurl~=0.1 in c:\\users\\linda\\appdata\\local\\programs\\python\\python311\\lib\\site-packages (from markdown-it-py>=2.2.0->rich>=12.0.0->twine->autogen->optiguide) (0.1.2)\n",
            "Requirement already satisfied: more-itertools in c:\\users\\linda\\appdata\\local\\programs\\python\\python311\\lib\\site-packages (from jaraco.classes->keyring>=15.1->twine->autogen->optiguide) (10.1.0)\n",
            "Note: you may need to restart the kernel to use updated packages.\n"
          ]
        },
        {
          "name": "stderr",
          "output_type": "stream",
          "text": [
            "\n",
            "[notice] A new release of pip is available: 23.2.1 -> 23.3.1\n",
            "[notice] To update, run: python.exe -m pip install --upgrade pip\n"
          ]
        }
      ],
      "source": [
        "# Install Required Packages\n",
        "%pip install optiguide"
      ]
    },
    {
      "cell_type": "code",
      "execution_count": 3,
      "id": "9a3b79c4",
      "metadata": {
        "id": "9a3b79c4"
      },
      "outputs": [],
      "source": [
        "# test Gurobi installation\n",
        "import gurobipy as gp\n",
        "from gurobipy import GRB\n",
        "from eventlet.timeout import Timeout\n",
        "\n",
        "# import auxillary packages\n",
        "import re\n",
        "import requests  # for loading the example source code\n",
        "import openai\n",
        "import os\n",
        "\n",
        "# import flaml and autogen\n",
        "from flaml import autogen\n",
        "from flaml.autogen.agentchat import Agent, UserProxyAgent\n",
        "from optiguide.optiguide import OptiGuideAgent"
      ]
    },
    {
      "cell_type": "code",
      "execution_count": 17,
      "id": "2e170b15",
      "metadata": {},
      "outputs": [],
      "source": [
        "openai.api_key_path = \"OAI_CONFIG_LIST.txt\""
      ]
    },
    {
      "cell_type": "code",
      "execution_count": 18,
      "id": "aedf19e7",
      "metadata": {
        "id": "aedf19e7"
      },
      "outputs": [],
      "source": [
        "autogen.oai.ChatCompletion.start_logging()\n",
        "\n",
        "config_list = autogen.config_list_from_json(\n",
        "    \"OAI_CONFIG_LIST\",\n",
        "    filter_dict={\n",
        "        \"model\": {\n",
        "            \"gpt-4\",\n",
        "            \"gpt4\",\n",
        "            \"gpt-4-32k\",\n",
        "            \"gpt-4-32k-0314\",\n",
        "            \"gpt-3.5-turbo\",\n",
        "            \"gpt-3.5-turbo-16k\",\n",
        "            \"gpt-3.5-turbo-0301\",\n",
        "            \"chatgpt-35-turbo-0301\",\n",
        "            \"gpt-35-turbo-v0301\",\n",
        "        }\n",
        "    }\n",
        ")\n"
      ]
    },
    {
      "cell_type": "markdown",
      "id": "e9e7e728",
      "metadata": {
        "id": "e9e7e728"
      },
      "source": [
        "Now, let's import the source code (loading from URL) and also some training examples (defined as string blow)."
      ]
    },
    {
      "cell_type": "code",
      "execution_count": 19,
      "id": "ca962ac5",
      "metadata": {
        "colab": {
          "base_uri": "https://localhost:8080/"
        },
        "id": "ca962ac5",
        "outputId": "4a789991-8ba1-46f3-aad5-7fbaaaff7f02"
      },
      "outputs": [
        {
          "name": "stdout",
          "output_type": "stream",
          "text": [
            "import time\n",
            "from gurobipy import GRB, Model\n",
            "\n",
            "# Example data\n",
            "\n",
            "suppliers = ['supplier1', 'supplier2']\n",
            "farms = ['farm1', 'farm2']\n",
            "markets = ['market1', 'market2']\n",
            "\n",
            "seed_supply_capacity = {'supplier1': 1000, 'supplier2': 1500}\n",
            ".\n",
            ".\n",
            ".\n",
            "\n",
            "\n",
            "# Solve\n",
            "m.update()\n",
            "model.optimize()\n",
            "\n",
            "print(time.ctime())\n",
            "if m.status == GRB.OPTIMAL:\n",
            "    print(f'Optimal cost: {m.objVal}')\n",
            "else:\n",
            "    print(\"Not solved to optimality. Optimization status:\", m.status)\n"
          ]
        }
      ],
      "source": [
        "# Get the source code of our coffee example\n",
        "code_url = \"https://raw.githubusercontent.com/yuqingsh/capstone-project-demo/master/farm_lotsizing.py\"\n",
        "response  = requests.get(code_url)\n",
        "# Check if the request was successful\n",
        "if response.status_code == 200:\n",
        "    # Get the text content from the response\n",
        "    code = response.text\n",
        "else:\n",
        "    raise RuntimeError(\"Failed to retrieve the file.\")\n",
        "# code = open(code_url, \"r\").read() # for local files\n",
        "\n",
        "\n",
        "# show the first head and tail of the source code\n",
        "print(\"\\n\".join(code.split(\"\\n\")[:10]))\n",
        "print(\".\\n\" * 3)\n",
        "print(\"\\n\".join(code.split(\"\\n\")[-10:]))"
      ]
    },
    {
      "cell_type": "code",
      "execution_count": 20,
      "id": "e31c4b36",
      "metadata": {
        "code_folding": [],
        "id": "e31c4b36"
      },
      "outputs": [],
      "source": [
        "# In-context learning examples.\n",
        "example_qa = \"\"\"\n",
        "----------\n",
        "Question: Why is it not recommended to rely on just one seed supplier for Farm 2?\n",
        "Answer Code:\n",
        "```python\n",
        "z = model.addVars(suppliers, vtype=GRB.BINARY, name=\"z\")\n",
        "model.addConstr(sum(z[s] for s in suppliers) <= 1, \"one_supplier_constraint\")\n",
        "for s in suppliers:\n",
        "    model.addConstr(x[s, 'farm2'] <= seed_supply_capacity[s] * z[s], \"capacity_constraint_farm2\")\n",
        "```\n",
        "\n",
        "\n",
        "\n",
        "\"\"\""
      ]
    },
    {
      "cell_type": "markdown",
      "id": "5a5a7d7e",
      "metadata": {
        "id": "5a5a7d7e"
      },
      "source": [
        "Now, let's create an OptiGuide agent and also a user.\n",
        "\n",
        "For the OptiGuide agent, we only allow \"debug_times\" to be 1, which means it can debug its answer once if it encountered errors."
      ]
    },
    {
      "cell_type": "code",
      "execution_count": 21,
      "id": "af53727c",
      "metadata": {
        "id": "af53727c"
      },
      "outputs": [],
      "source": [
        "%%capture\n",
        "agent = OptiGuideAgent(name=\"OptiGuide Coffee Example\",\n",
        "                  source_code=code,\n",
        "                   debug_times=1,\n",
        "                  example_qa=\"\",\n",
        "                llm_config={\n",
        "        \"request_timeout\": 600,\n",
        "        \"seed\": 42,\n",
        "        \"config_list\": config_list,\n",
        "    })\n",
        "\n",
        "user = UserProxyAgent(\"user\", max_consecutive_auto_reply=0,\n",
        "                         human_input_mode=\"NEVER\", code_execution_config=False)\n"
      ]
    },
    {
      "cell_type": "markdown",
      "id": "bd615e87",
      "metadata": {
        "id": "bd615e87"
      },
      "source": [
        "Now, let's create a user's question."
      ]
    },
    {
      "cell_type": "code",
      "execution_count": 22,
      "id": "cbdd1f28",
      "metadata": {
        "colab": {
          "base_uri": "https://localhost:8080/"
        },
        "id": "cbdd1f28",
        "outputId": "c5e943cf-fce7-4484-8cd8-433d4fede8e5",
        "scrolled": false
      },
      "outputs": [
        {
          "name": "stdout",
          "output_type": "stream",
          "text": [
            "\u001b[33muser\u001b[0m (to OptiGuide Coffee Example):\n",
            "\n",
            "How can we adjust the model if we want to explore a scenario where the planting cost at Farm 1 increases by 10%?\n",
            "\n",
            "--------------------------------------------------------------------------------\n",
            "\u001b[33mOptiGuide Coffee Example\u001b[0m (to writer):\n",
            "\n",
            "\n",
            "Answer Code:\n",
            "\n",
            "\n",
            "--------------------------------------------------------------------------------\n",
            "\u001b[33mwriter\u001b[0m (to OptiGuide Coffee Example):\n",
            "\n",
            "```python\n",
            "# Increase the planting cost at farm1 by 10%\n",
            "planting_cost['farm1'] = planting_cost['farm1'] * 1.10\n",
            "```\n",
            "\n",
            "--------------------------------------------------------------------------------\n",
            "\u001b[33mOptiGuide Coffee Example\u001b[0m (to safeguard):\n",
            "\n",
            "\n",
            "--- Code ---\n",
            "# Increase the planting cost at farm1 by 10%\n",
            "planting_cost['farm1'] = planting_cost['farm1'] * 1.10\n",
            "\n",
            "--- One-Word Answer: SAFE or DANGER ---\n",
            "\n",
            "\n",
            "--------------------------------------------------------------------------------\n",
            "\u001b[33msafeguard\u001b[0m (to OptiGuide Coffee Example):\n",
            "\n",
            "SAFE\n",
            "\n",
            "--------------------------------------------------------------------------------\n",
            "Gurobi Optimizer version 11.0.0 build v11.0.0rc2 (win64 - Windows 11.0 (22621.2))\n",
            "\n",
            "CPU model: 12th Gen Intel(R) Core(TM) i7-1260P, instruction set [SSE2|AVX|AVX2]\n",
            "Thread count: 12 physical cores, 16 logical processors, using up to 16 threads\n",
            "\n",
            "Optimize a model with 4 rows, 8 columns and 8 nonzeros\n",
            "Model fingerprint: 0x296d1a06\n",
            "Variable types: 0 continuous, 8 integer (0 binary)\n",
            "Coefficient statistics:\n",
            "  Matrix range     [1e+00, 1e+00]\n",
            "  Objective range  [2e+00, 3e+01]\n",
            "  Bounds range     [0e+00, 0e+00]\n",
            "  RHS range        [8e+02, 2e+03]\n",
            "Found heuristic solution: objective 82800.000000\n",
            "Presolve removed 4 rows and 8 columns\n",
            "Presolve time: 0.00s\n",
            "Presolve: All rows and columns removed\n",
            "\n",
            "Explored 0 nodes (0 simplex iterations) in 0.01 seconds (0.00 work units)\n",
            "Thread count was 1 (of 16 available processors)\n",
            "\n",
            "Solution count 2: 81200 82800 \n",
            "\n",
            "Optimal solution found (tolerance 1.00e-04)\n",
            "Best objective 8.120000000000e+04, best bound 8.120000000000e+04, gap 0.0000%\n",
            "Gurobi Optimizer version 11.0.0 build v11.0.0rc2 (win64 - Windows 11.0 (22621.2))\n",
            "\n",
            "CPU model: 12th Gen Intel(R) Core(TM) i7-1260P, instruction set [SSE2|AVX|AVX2]\n",
            "Thread count: 12 physical cores, 16 logical processors, using up to 16 threads\n",
            "\n",
            "Optimize a model with 4 rows, 8 columns and 8 nonzeros\n",
            "Model fingerprint: 0x296d1a06\n",
            "Variable types: 0 continuous, 8 integer (0 binary)\n",
            "Coefficient statistics:\n",
            "  Matrix range     [1e+00, 1e+00]\n",
            "  Objective range  [2e+00, 3e+01]\n",
            "  Bounds range     [0e+00, 0e+00]\n",
            "  RHS range        [8e+02, 2e+03]\n",
            "\n",
            "\n",
            "Presolve removed 4 rows and 8 columns\n",
            "Presolve time: 0.00s\n",
            "Presolve: All rows and columns removed\n",
            "\n",
            "Explored 0 nodes (0 simplex iterations) in 0.01 seconds (0.00 work units)\n",
            "Thread count was 1 (of 16 available processors)\n",
            "\n",
            "Solution count 2: 81200 82800 \n",
            "\n",
            "Optimal solution found (tolerance 1.00e-04)\n",
            "Best objective 8.120000000000e+04, best bound 8.120000000000e+04, gap 0.0000%\n",
            "Wed Dec 13 16:43:34 2023\n",
            "Optimal cost: 81200.0\n",
            "\u001b[33mOptimization problem solved. The objective value is: 81200.0\u001b[0m\n",
            "\u001b[33mOptiGuide Coffee Example\u001b[0m (to writer):\n",
            "\n",
            "Here are the execution results: Optimization problem solved. The objective value is: 81200.0\n",
            "\n",
            "Can you organize these information to a human readable answer?\n",
            "Remember to compare the new results to the original results you obtained in the\n",
            "beginning.\n",
            "\n",
            "--- HUMAN READABLE ANSWER ---\n",
            "\n",
            "\n",
            "--------------------------------------------------------------------------------\n",
            "\u001b[33mwriter\u001b[0m (to OptiGuide Coffee Example):\n",
            "\n",
            "After increasing the planting cost at 'farm1' by 10%, the optimal solution for the supply chain problem results in a total cost of 81200.0. Comparing with the original total cost of 77200.0, this 10% increase in planting cost at 'farm1' has resulted in an increase of 4000 in the total cost. This shows that increases in planting costs directly affect the overall cost of the supply chain, specifically making it more expensive to meet all market demands.\n",
            "\n",
            "--------------------------------------------------------------------------------\n",
            "\u001b[33mOptiGuide Coffee Example\u001b[0m (to user):\n",
            "\n",
            "After increasing the planting cost at 'farm1' by 10%, the optimal solution for the supply chain problem results in a total cost of 81200.0. Comparing with the original total cost of 77200.0, this 10% increase in planting cost at 'farm1' has resulted in an increase of 4000 in the total cost. This shows that increases in planting costs directly affect the overall cost of the supply chain, specifically making it more expensive to meet all market demands.\n",
            "\n",
            "--------------------------------------------------------------------------------\n"
          ]
        }
      ],
      "source": [
        "user.initiate_chat(agent, message=\"How can we adjust the model if we want to explore a scenario where the planting cost at Farm 1 increases by 10%?\")\n"
      ]
    }
  ],
  "metadata": {
    "colab": {
      "provenance": [],
      "toc_visible": true
    },
    "kernelspec": {
      "display_name": "Python 3 (ipykernel)",
      "language": "python",
      "name": "python3"
    },
    "language_info": {
      "codemirror_mode": {
        "name": "ipython",
        "version": 3
      },
      "file_extension": ".py",
      "mimetype": "text/x-python",
      "name": "python",
      "nbconvert_exporter": "python",
      "pygments_lexer": "ipython3",
      "version": "3.11.5"
    },
    "toc": {
      "base_numbering": 1,
      "nav_menu": {},
      "number_sections": true,
      "sideBar": true,
      "skip_h1_title": false,
      "title_cell": "Table of Contents",
      "title_sidebar": "Contents",
      "toc_cell": false,
      "toc_position": {},
      "toc_section_display": true,
      "toc_window_display": false
    }
  },
  "nbformat": 4,
  "nbformat_minor": 5
}
